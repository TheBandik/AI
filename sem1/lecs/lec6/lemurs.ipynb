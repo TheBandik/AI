{
 "cells": [
  {
   "attachments": {},
   "cell_type": "markdown",
   "metadata": {},
   "source": [
    "## Библиотеки"
   ]
  },
  {
   "cell_type": "code",
   "execution_count": 64,
   "metadata": {},
   "outputs": [],
   "source": [
    "import pandas as pd\n",
    "import numpy as np\n",
    "import statsmodels.formula.api as smf\n",
    "\n",
    "from sklearn import linear_model\n",
    "import statsmodels.formula.api as smf\n",
    "import sklearn.model_selection as skm_s\n",
    "from sklearn.metrics import classification_report, confusion_matrix, roc_curve\n",
    "from sklearn.metrics import mean_squared_error\n",
    "import matplotlib.pyplot as plt\n",
    "from sklearn.preprocessing import StandardScaler\n",
    "from sklearn.decomposition import PCA\n",
    "import math\n",
    "from sklearn.model_selection import StratifiedShuffleSplit"
   ]
  },
  {
   "attachments": {},
   "cell_type": "markdown",
   "metadata": {},
   "source": [
    "## Загрузка данных"
   ]
  },
  {
   "cell_type": "code",
   "execution_count": 65,
   "metadata": {},
   "outputs": [
    {
     "data": {
      "text/html": [
       "<div>\n",
       "<style scoped>\n",
       "    .dataframe tbody tr th:only-of-type {\n",
       "        vertical-align: middle;\n",
       "    }\n",
       "\n",
       "    .dataframe tbody tr th {\n",
       "        vertical-align: top;\n",
       "    }\n",
       "\n",
       "    .dataframe thead th {\n",
       "        text-align: right;\n",
       "    }\n",
       "</style>\n",
       "<table border=\"1\" class=\"dataframe\">\n",
       "  <thead>\n",
       "    <tr style=\"text-align: right;\">\n",
       "      <th></th>\n",
       "      <th>Sex</th>\n",
       "      <th>Weight</th>\n",
       "      <th>Age</th>\n",
       "      <th>Preg_Status</th>\n",
       "      <th>Birth_Type</th>\n",
       "    </tr>\n",
       "  </thead>\n",
       "  <tbody>\n",
       "    <tr>\n",
       "      <th>0</th>\n",
       "      <td>0</td>\n",
       "      <td>1902.0</td>\n",
       "      <td>2.12</td>\n",
       "      <td>0</td>\n",
       "      <td>0</td>\n",
       "    </tr>\n",
       "    <tr>\n",
       "      <th>1</th>\n",
       "      <td>0</td>\n",
       "      <td>2447.0</td>\n",
       "      <td>2.38</td>\n",
       "      <td>0</td>\n",
       "      <td>0</td>\n",
       "    </tr>\n",
       "    <tr>\n",
       "      <th>2</th>\n",
       "      <td>0</td>\n",
       "      <td>2306.0</td>\n",
       "      <td>3.47</td>\n",
       "      <td>0</td>\n",
       "      <td>0</td>\n",
       "    </tr>\n",
       "    <tr>\n",
       "      <th>3</th>\n",
       "      <td>0</td>\n",
       "      <td>2446.5</td>\n",
       "      <td>4.02</td>\n",
       "      <td>0</td>\n",
       "      <td>0</td>\n",
       "    </tr>\n",
       "    <tr>\n",
       "      <th>4</th>\n",
       "      <td>0</td>\n",
       "      <td>2319.5</td>\n",
       "      <td>6.53</td>\n",
       "      <td>0</td>\n",
       "      <td>0</td>\n",
       "    </tr>\n",
       "    <tr>\n",
       "      <th>...</th>\n",
       "      <td>...</td>\n",
       "      <td>...</td>\n",
       "      <td>...</td>\n",
       "      <td>...</td>\n",
       "      <td>...</td>\n",
       "    </tr>\n",
       "    <tr>\n",
       "      <th>3212</th>\n",
       "      <td>1</td>\n",
       "      <td>540.0</td>\n",
       "      <td>0.23</td>\n",
       "      <td>0</td>\n",
       "      <td>1</td>\n",
       "    </tr>\n",
       "    <tr>\n",
       "      <th>3213</th>\n",
       "      <td>1</td>\n",
       "      <td>820.0</td>\n",
       "      <td>0.32</td>\n",
       "      <td>0</td>\n",
       "      <td>1</td>\n",
       "    </tr>\n",
       "    <tr>\n",
       "      <th>3214</th>\n",
       "      <td>1</td>\n",
       "      <td>1120.0</td>\n",
       "      <td>0.42</td>\n",
       "      <td>0</td>\n",
       "      <td>1</td>\n",
       "    </tr>\n",
       "    <tr>\n",
       "      <th>3215</th>\n",
       "      <td>1</td>\n",
       "      <td>1320.0</td>\n",
       "      <td>0.65</td>\n",
       "      <td>0</td>\n",
       "      <td>1</td>\n",
       "    </tr>\n",
       "    <tr>\n",
       "      <th>3216</th>\n",
       "      <td>1</td>\n",
       "      <td>1440.0</td>\n",
       "      <td>0.74</td>\n",
       "      <td>0</td>\n",
       "      <td>1</td>\n",
       "    </tr>\n",
       "  </tbody>\n",
       "</table>\n",
       "<p>3217 rows × 5 columns</p>\n",
       "</div>"
      ],
      "text/plain": [
       "      Sex  Weight   Age  Preg_Status  Birth_Type\n",
       "0       0  1902.0  2.12            0           0\n",
       "1       0  2447.0  2.38            0           0\n",
       "2       0  2306.0  3.47            0           0\n",
       "3       0  2446.5  4.02            0           0\n",
       "4       0  2319.5  6.53            0           0\n",
       "...   ...     ...   ...          ...         ...\n",
       "3212    1   540.0  0.23            0           1\n",
       "3213    1   820.0  0.32            0           1\n",
       "3214    1  1120.0  0.42            0           1\n",
       "3215    1  1320.0  0.65            0           1\n",
       "3216    1  1440.0  0.74            0           1\n",
       "\n",
       "[3217 rows x 5 columns]"
      ]
     },
     "execution_count": 65,
     "metadata": {},
     "output_type": "execute_result"
    }
   ],
   "source": [
    "df = pd.read_csv('lemurs.csv', sep=',', encoding = \"ISO-8859-1\")\n",
    "df"
   ]
  },
  {
   "cell_type": "code",
   "execution_count": 66,
   "metadata": {},
   "outputs": [
    {
     "data": {
      "text/html": [
       "<div>\n",
       "<style scoped>\n",
       "    .dataframe tbody tr th:only-of-type {\n",
       "        vertical-align: middle;\n",
       "    }\n",
       "\n",
       "    .dataframe tbody tr th {\n",
       "        vertical-align: top;\n",
       "    }\n",
       "\n",
       "    .dataframe thead th {\n",
       "        text-align: right;\n",
       "    }\n",
       "</style>\n",
       "<table border=\"1\" class=\"dataframe\">\n",
       "  <thead>\n",
       "    <tr style=\"text-align: right;\">\n",
       "      <th></th>\n",
       "      <th>Sex</th>\n",
       "      <th>Weight</th>\n",
       "      <th>Age</th>\n",
       "      <th>Preg_Status</th>\n",
       "      <th>Birth_Type</th>\n",
       "    </tr>\n",
       "  </thead>\n",
       "  <tbody>\n",
       "    <tr>\n",
       "      <th>2</th>\n",
       "      <td>0</td>\n",
       "      <td>2306.0</td>\n",
       "      <td>3.47</td>\n",
       "      <td>0</td>\n",
       "      <td>0</td>\n",
       "    </tr>\n",
       "    <tr>\n",
       "      <th>3</th>\n",
       "      <td>0</td>\n",
       "      <td>2446.5</td>\n",
       "      <td>4.02</td>\n",
       "      <td>0</td>\n",
       "      <td>0</td>\n",
       "    </tr>\n",
       "    <tr>\n",
       "      <th>4</th>\n",
       "      <td>0</td>\n",
       "      <td>2319.5</td>\n",
       "      <td>6.53</td>\n",
       "      <td>0</td>\n",
       "      <td>0</td>\n",
       "    </tr>\n",
       "    <tr>\n",
       "      <th>5</th>\n",
       "      <td>0</td>\n",
       "      <td>2283.5</td>\n",
       "      <td>7.92</td>\n",
       "      <td>0</td>\n",
       "      <td>0</td>\n",
       "    </tr>\n",
       "    <tr>\n",
       "      <th>6</th>\n",
       "      <td>0</td>\n",
       "      <td>2100.0</td>\n",
       "      <td>9.37</td>\n",
       "      <td>0</td>\n",
       "      <td>0</td>\n",
       "    </tr>\n",
       "    <tr>\n",
       "      <th>...</th>\n",
       "      <td>...</td>\n",
       "      <td>...</td>\n",
       "      <td>...</td>\n",
       "      <td>...</td>\n",
       "      <td>...</td>\n",
       "    </tr>\n",
       "    <tr>\n",
       "      <th>3101</th>\n",
       "      <td>1</td>\n",
       "      <td>2560.0</td>\n",
       "      <td>3.81</td>\n",
       "      <td>0</td>\n",
       "      <td>1</td>\n",
       "    </tr>\n",
       "    <tr>\n",
       "      <th>3102</th>\n",
       "      <td>1</td>\n",
       "      <td>2480.0</td>\n",
       "      <td>3.90</td>\n",
       "      <td>0</td>\n",
       "      <td>1</td>\n",
       "    </tr>\n",
       "    <tr>\n",
       "      <th>3103</th>\n",
       "      <td>1</td>\n",
       "      <td>2540.0</td>\n",
       "      <td>4.00</td>\n",
       "      <td>0</td>\n",
       "      <td>1</td>\n",
       "    </tr>\n",
       "    <tr>\n",
       "      <th>3104</th>\n",
       "      <td>1</td>\n",
       "      <td>2540.0</td>\n",
       "      <td>4.23</td>\n",
       "      <td>0</td>\n",
       "      <td>1</td>\n",
       "    </tr>\n",
       "    <tr>\n",
       "      <th>3105</th>\n",
       "      <td>1</td>\n",
       "      <td>2580.0</td>\n",
       "      <td>4.32</td>\n",
       "      <td>0</td>\n",
       "      <td>1</td>\n",
       "    </tr>\n",
       "  </tbody>\n",
       "</table>\n",
       "<p>2234 rows × 5 columns</p>\n",
       "</div>"
      ],
      "text/plain": [
       "      Sex  Weight   Age  Preg_Status  Birth_Type\n",
       "2       0  2306.0  3.47            0           0\n",
       "3       0  2446.5  4.02            0           0\n",
       "4       0  2319.5  6.53            0           0\n",
       "5       0  2283.5  7.92            0           0\n",
       "6       0  2100.0  9.37            0           0\n",
       "...   ...     ...   ...          ...         ...\n",
       "3101    1  2560.0  3.81            0           1\n",
       "3102    1  2480.0  3.90            0           1\n",
       "3103    1  2540.0  4.00            0           1\n",
       "3104    1  2540.0  4.23            0           1\n",
       "3105    1  2580.0  4.32            0           1\n",
       "\n",
       "[2234 rows x 5 columns]"
      ]
     },
     "execution_count": 66,
     "metadata": {},
     "output_type": "execute_result"
    }
   ],
   "source": [
    "df = df.dropna()\n",
    "df = df.loc[df['Age'] >= 3]\n",
    "df"
   ]
  },
  {
   "attachments": {},
   "cell_type": "markdown",
   "metadata": {},
   "source": [
    "## Линейная"
   ]
  },
  {
   "cell_type": "code",
   "execution_count": 67,
   "metadata": {},
   "outputs": [
    {
     "name": "stdout",
     "output_type": "stream",
     "text": [
      "                            OLS Regression Results                            \n",
      "==============================================================================\n",
      "Dep. Variable:                 Weight   R-squared:                       0.139\n",
      "Model:                            OLS   Adj. R-squared:                  0.138\n",
      "Method:                 Least Squares   F-statistic:                     90.31\n",
      "Date:                Thu, 22 Dec 2022   Prob (F-statistic):           3.14e-71\n",
      "Time:                        17:42:19   Log-Likelihood:                -15706.\n",
      "No. Observations:                2234   AIC:                         3.142e+04\n",
      "Df Residuals:                    2229   BIC:                         3.145e+04\n",
      "Df Model:                           4                                         \n",
      "Covariance Type:            nonrobust                                         \n",
      "===============================================================================\n",
      "                  coef    std err          t      P>|t|      [0.025      0.975]\n",
      "-------------------------------------------------------------------------------\n",
      "Intercept    2228.2771     23.590     94.458      0.000    2182.016    2274.538\n",
      "Sex           199.6154     13.047     15.300      0.000     174.030     225.201\n",
      "Age             3.1897      1.028      3.104      0.002       1.174       5.205\n",
      "Preg_Status   179.9483     28.479      6.319      0.000     124.100     235.797\n",
      "Birth_Type    148.5857     17.596      8.444      0.000     114.079     183.093\n",
      "==============================================================================\n",
      "Omnibus:                       28.778   Durbin-Watson:                   0.489\n",
      "Prob(Omnibus):                  0.000   Jarque-Bera (JB):               29.620\n",
      "Skew:                           0.271   Prob(JB):                     3.70e-07\n",
      "Kurtosis:                       3.159   Cond. No.                         64.7\n",
      "==============================================================================\n",
      "\n",
      "Notes:\n",
      "[1] Standard Errors assume that the covariance matrix of the errors is correctly specified.\n",
      "\n",
      "MAPE: 8.83%\n",
      "\n"
     ]
    }
   ],
   "source": [
    "model = smf.ols(formula=\"Weight ~ Sex + Age + Preg_Status + Birth_Type\", data=df).fit()\n",
    "\n",
    "print(model.summary())\n",
    "print(f'\\nMAPE: {round(np.mean(np.abs((df.Weight - model.predict()) / df.Weight)) * 100, 2)}%\\n')"
   ]
  },
  {
   "attachments": {},
   "cell_type": "markdown",
   "metadata": {},
   "source": [
    "## Логарифм +"
   ]
  },
  {
   "cell_type": "code",
   "execution_count": 68,
   "metadata": {},
   "outputs": [
    {
     "name": "stdout",
     "output_type": "stream",
     "text": [
      "                            OLS Regression Results                            \n",
      "==============================================================================\n",
      "Dep. Variable:         np.log(Weight)   R-squared:                       0.136\n",
      "Model:                            OLS   Adj. R-squared:                  0.134\n",
      "Method:                 Least Squares   F-statistic:                     87.52\n",
      "Date:                Thu, 22 Dec 2022   Prob (F-statistic):           3.73e-69\n",
      "Time:                        17:42:19   Log-Likelihood:                 1756.9\n",
      "No. Observations:                2234   AIC:                            -3504.\n",
      "Df Residuals:                    2229   BIC:                            -3475.\n",
      "Df Model:                           4                                         \n",
      "Covariance Type:            nonrobust                                         \n",
      "===============================================================================\n",
      "                  coef    std err          t      P>|t|      [0.025      0.975]\n",
      "-------------------------------------------------------------------------------\n",
      "Intercept       7.7101      0.010    811.222      0.000       7.691       7.729\n",
      "Sex             0.0796      0.005     15.148      0.000       0.069       0.090\n",
      "Age             0.0011      0.000      2.649      0.008       0.000       0.002\n",
      "Preg_Status     0.0686      0.011      5.974      0.000       0.046       0.091\n",
      "Birth_Type      0.0599      0.007      8.454      0.000       0.046       0.074\n",
      "==============================================================================\n",
      "Omnibus:                        2.569   Durbin-Watson:                   0.504\n",
      "Prob(Omnibus):                  0.277   Jarque-Bera (JB):                2.589\n",
      "Skew:                          -0.042   Prob(JB):                        0.274\n",
      "Kurtosis:                       3.144   Cond. No.                         64.7\n",
      "==============================================================================\n",
      "\n",
      "Notes:\n",
      "[1] Standard Errors assume that the covariance matrix of the errors is correctly specified.\n",
      "\n",
      "MAPE: 1.12%\n",
      "\n"
     ]
    }
   ],
   "source": [
    "model1 = smf.ols(formula=\"np.log(Weight) ~ Sex + Age + Preg_Status + Birth_Type\", data=df).fit()\n",
    "\n",
    "print(model1.summary())\n",
    "print(f'\\nMAPE: {round(np.mean(np.abs((np.log(df.Weight) - model1.predict()) / np.log(df.Weight))) * 100, 2)}%\\n')"
   ]
  },
  {
   "attachments": {},
   "cell_type": "markdown",
   "metadata": {},
   "source": [
    "## Логарифм *"
   ]
  },
  {
   "cell_type": "code",
   "execution_count": 69,
   "metadata": {},
   "outputs": [
    {
     "name": "stdout",
     "output_type": "stream",
     "text": [
      "                            OLS Regression Results                            \n",
      "==============================================================================\n",
      "Dep. Variable:         np.log(Weight)   R-squared:                       0.145\n",
      "Model:                            OLS   Adj. R-squared:                  0.141\n",
      "Method:                 Least Squares   F-statistic:                     34.24\n",
      "Date:                Thu, 22 Dec 2022   Prob (F-statistic):           4.84e-68\n",
      "Time:                        17:42:19   Log-Likelihood:                 1768.8\n",
      "No. Observations:                2234   AIC:                            -3514.\n",
      "Df Residuals:                    2222   BIC:                            -3445.\n",
      "Df Model:                          11                                         \n",
      "Covariance Type:            nonrobust                                         \n",
      "==================================================================================================\n",
      "                                     coef    std err          t      P>|t|      [0.025      0.975]\n",
      "--------------------------------------------------------------------------------------------------\n",
      "Intercept                          7.8299      0.042    185.210      0.000       7.747       7.913\n",
      "Sex                               -0.0412      0.047     -0.873      0.382      -0.134       0.051\n",
      "Age                               -0.0067      0.003     -2.495      0.013      -0.012      -0.001\n",
      "Sex:Age                            0.0078      0.003      2.518      0.012       0.002       0.014\n",
      "Preg_Status                       -0.0144      0.032     -0.443      0.658      -0.078       0.049\n",
      "Sex:Preg_Status                   -0.0144      0.032     -0.443      0.658      -0.078       0.049\n",
      "Age:Preg_Status                    0.0053      0.003      1.679      0.093      -0.001       0.011\n",
      "Sex:Age:Preg_Status                0.0053      0.003      1.679      0.093      -0.001       0.011\n",
      "Birth_Type                        -0.0583      0.043     -1.362      0.173      -0.142       0.026\n",
      "Sex:Birth_Type                     0.1188      0.049      2.447      0.015       0.024       0.214\n",
      "Age:Birth_Type                     0.0077      0.003      2.800      0.005       0.002       0.013\n",
      "Sex:Age:Birth_Type                -0.0076      0.003     -2.325      0.020      -0.014      -0.001\n",
      "Preg_Status:Birth_Type             0.0043      0.036      0.121      0.903      -0.066       0.074\n",
      "Sex:Preg_Status:Birth_Type         0.0043      0.036      0.121      0.903      -0.066       0.074\n",
      "Age:Preg_Status:Birth_Type        -0.0003      0.003     -0.077      0.938      -0.007       0.007\n",
      "Sex:Age:Preg_Status:Birth_Type    -0.0003      0.003     -0.077      0.938      -0.007       0.007\n",
      "==============================================================================\n",
      "Omnibus:                        3.260   Durbin-Watson:                   0.513\n",
      "Prob(Omnibus):                  0.196   Jarque-Bera (JB):                3.434\n",
      "Skew:                          -0.037   Prob(JB):                        0.180\n",
      "Kurtosis:                       3.178   Cond. No.                     4.45e+17\n",
      "==============================================================================\n",
      "\n",
      "Notes:\n",
      "[1] Standard Errors assume that the covariance matrix of the errors is correctly specified.\n",
      "[2] The smallest eigenvalue is 3.47e-30. This might indicate that there are\n",
      "strong multicollinearity problems or that the design matrix is singular.\n",
      "\n",
      "MAPE: 1.11%\n",
      "\n"
     ]
    }
   ],
   "source": [
    "model2 = smf.ols(formula=\"np.log(Weight) ~ Sex * Age * Preg_Status * Birth_Type\", data=df).fit()\n",
    "\n",
    "print(model2.summary())\n",
    "print(f'\\nMAPE: {round(np.mean(np.abs((np.log(df.Weight) - model2.predict()) / np.log(df.Weight))) * 100, 2)}%\\n')"
   ]
  },
  {
   "attachments": {},
   "cell_type": "markdown",
   "metadata": {},
   "source": [
    "## Прогноз по среднему значению"
   ]
  },
  {
   "cell_type": "code",
   "execution_count": 70,
   "metadata": {},
   "outputs": [
    {
     "data": {
      "text/html": [
       "<div>\n",
       "<style scoped>\n",
       "    .dataframe tbody tr th:only-of-type {\n",
       "        vertical-align: middle;\n",
       "    }\n",
       "\n",
       "    .dataframe tbody tr th {\n",
       "        vertical-align: top;\n",
       "    }\n",
       "\n",
       "    .dataframe thead th {\n",
       "        text-align: right;\n",
       "    }\n",
       "</style>\n",
       "<table border=\"1\" class=\"dataframe\">\n",
       "  <thead>\n",
       "    <tr style=\"text-align: right;\">\n",
       "      <th></th>\n",
       "      <th>Sex</th>\n",
       "      <th>Age</th>\n",
       "      <th>Birth_Type</th>\n",
       "      <th>Preg_Status</th>\n",
       "    </tr>\n",
       "  </thead>\n",
       "  <tbody>\n",
       "    <tr>\n",
       "      <th>0</th>\n",
       "      <td>0</td>\n",
       "      <td>11</td>\n",
       "      <td>1</td>\n",
       "      <td>0</td>\n",
       "    </tr>\n",
       "  </tbody>\n",
       "</table>\n",
       "</div>"
      ],
      "text/plain": [
       "   Sex  Age  Birth_Type  Preg_Status\n",
       "0    0   11           1            0"
      ]
     },
     "execution_count": 70,
     "metadata": {},
     "output_type": "execute_result"
    }
   ],
   "source": [
    "data = {\n",
    "    'Sex': round(np.mean(df['Sex'])),\n",
    "    'Age': round(np.mean(df['Age'])),\n",
    "    'Birth_Type': round(np.mean(df['Birth_Type'])),\n",
    "    'Preg_Status': round(np.mean(df['Preg_Status']))\n",
    "}\n",
    "\n",
    "mean_df = pd.DataFrame(data, index=[0])\n",
    "mean_df"
   ]
  },
  {
   "cell_type": "code",
   "execution_count": 71,
   "metadata": {},
   "outputs": [
    {
     "data": {
      "text/html": [
       "<div>\n",
       "<style scoped>\n",
       "    .dataframe tbody tr th:only-of-type {\n",
       "        vertical-align: middle;\n",
       "    }\n",
       "\n",
       "    .dataframe tbody tr th {\n",
       "        vertical-align: top;\n",
       "    }\n",
       "\n",
       "    .dataframe thead th {\n",
       "        text-align: right;\n",
       "    }\n",
       "</style>\n",
       "<table border=\"1\" class=\"dataframe\">\n",
       "  <thead>\n",
       "    <tr style=\"text-align: right;\">\n",
       "      <th></th>\n",
       "      <th>Sex</th>\n",
       "      <th>Weight</th>\n",
       "      <th>Age</th>\n",
       "      <th>Preg_Status</th>\n",
       "      <th>Birth_Type</th>\n",
       "    </tr>\n",
       "  </thead>\n",
       "  <tbody>\n",
       "    <tr>\n",
       "      <th>188</th>\n",
       "      <td>0</td>\n",
       "      <td>2540.0</td>\n",
       "      <td>9.75</td>\n",
       "      <td>0</td>\n",
       "      <td>1</td>\n",
       "    </tr>\n",
       "    <tr>\n",
       "      <th>189</th>\n",
       "      <td>0</td>\n",
       "      <td>2520.0</td>\n",
       "      <td>9.76</td>\n",
       "      <td>0</td>\n",
       "      <td>1</td>\n",
       "    </tr>\n",
       "    <tr>\n",
       "      <th>190</th>\n",
       "      <td>0</td>\n",
       "      <td>2540.0</td>\n",
       "      <td>9.78</td>\n",
       "      <td>0</td>\n",
       "      <td>1</td>\n",
       "    </tr>\n",
       "    <tr>\n",
       "      <th>265</th>\n",
       "      <td>0</td>\n",
       "      <td>2380.0</td>\n",
       "      <td>9.52</td>\n",
       "      <td>0</td>\n",
       "      <td>1</td>\n",
       "    </tr>\n",
       "    <tr>\n",
       "      <th>266</th>\n",
       "      <td>0</td>\n",
       "      <td>2280.0</td>\n",
       "      <td>9.67</td>\n",
       "      <td>0</td>\n",
       "      <td>1</td>\n",
       "    </tr>\n",
       "    <tr>\n",
       "      <th>...</th>\n",
       "      <td>...</td>\n",
       "      <td>...</td>\n",
       "      <td>...</td>\n",
       "      <td>...</td>\n",
       "      <td>...</td>\n",
       "    </tr>\n",
       "    <tr>\n",
       "      <th>2138</th>\n",
       "      <td>0</td>\n",
       "      <td>2240.0</td>\n",
       "      <td>10.06</td>\n",
       "      <td>0</td>\n",
       "      <td>1</td>\n",
       "    </tr>\n",
       "    <tr>\n",
       "      <th>2139</th>\n",
       "      <td>0</td>\n",
       "      <td>2200.0</td>\n",
       "      <td>10.19</td>\n",
       "      <td>0</td>\n",
       "      <td>1</td>\n",
       "    </tr>\n",
       "    <tr>\n",
       "      <th>2140</th>\n",
       "      <td>0</td>\n",
       "      <td>2400.0</td>\n",
       "      <td>10.43</td>\n",
       "      <td>0</td>\n",
       "      <td>1</td>\n",
       "    </tr>\n",
       "    <tr>\n",
       "      <th>2306</th>\n",
       "      <td>0</td>\n",
       "      <td>2320.0</td>\n",
       "      <td>9.53</td>\n",
       "      <td>0</td>\n",
       "      <td>1</td>\n",
       "    </tr>\n",
       "    <tr>\n",
       "      <th>2307</th>\n",
       "      <td>0</td>\n",
       "      <td>2480.0</td>\n",
       "      <td>9.61</td>\n",
       "      <td>0</td>\n",
       "      <td>1</td>\n",
       "    </tr>\n",
       "  </tbody>\n",
       "</table>\n",
       "<p>64 rows × 5 columns</p>\n",
       "</div>"
      ],
      "text/plain": [
       "      Sex  Weight    Age  Preg_Status  Birth_Type\n",
       "188     0  2540.0   9.75            0           1\n",
       "189     0  2520.0   9.76            0           1\n",
       "190     0  2540.0   9.78            0           1\n",
       "265     0  2380.0   9.52            0           1\n",
       "266     0  2280.0   9.67            0           1\n",
       "...   ...     ...    ...          ...         ...\n",
       "2138    0  2240.0  10.06            0           1\n",
       "2139    0  2200.0  10.19            0           1\n",
       "2140    0  2400.0  10.43            0           1\n",
       "2306    0  2320.0   9.53            0           1\n",
       "2307    0  2480.0   9.61            0           1\n",
       "\n",
       "[64 rows x 5 columns]"
      ]
     },
     "execution_count": 71,
     "metadata": {},
     "output_type": "execute_result"
    }
   ],
   "source": [
    "pred = df.loc[df['Sex'] == 0]\n",
    "pred = pred.loc[round(pred['Age']) == 10]\n",
    "pred = pred.loc[pred['Birth_Type'] == 1]\n",
    "pred = pred.loc[pred['Preg_Status'] == 0]\n",
    "pred"
   ]
  },
  {
   "attachments": {},
   "cell_type": "markdown",
   "metadata": {},
   "source": [
    "### Прогноз линейной"
   ]
  },
  {
   "cell_type": "code",
   "execution_count": 72,
   "metadata": {},
   "outputs": [
    {
     "name": "stdout",
     "output_type": "stream",
     "text": [
      "Predict: 2411.95\n",
      "Real: 2420.0\n",
      "Dif: 8.05\n"
     ]
    }
   ],
   "source": [
    "pr = round(model.predict(mean_df)[0], 2)\n",
    "rl = round(np.median(pred.Weight), 2)\n",
    "\n",
    "print(f'Predict: {pr}')\n",
    "print(f'Real: {rl}')\n",
    "print(f'Dif: {abs(round(pr - rl, 2))}')"
   ]
  },
  {
   "attachments": {},
   "cell_type": "markdown",
   "metadata": {},
   "source": [
    "### Прогноз логарифм +"
   ]
  },
  {
   "cell_type": "code",
   "execution_count": 73,
   "metadata": {},
   "outputs": [
    {
     "name": "stdout",
     "output_type": "stream",
     "text": [
      "Predict: 2397.39\n",
      "Real: 2420.0\n",
      "Dif: 22.61\n"
     ]
    }
   ],
   "source": [
    "pr = round(math.e ** model1.predict(mean_df)[0], 2)\n",
    "rl = round(np.median(pred.Weight), 2)\n",
    "\n",
    "print(f'Predict: {pr}')\n",
    "print(f'Real: {rl}')\n",
    "print(f'Dif: {abs(round(pr - rl, 2))}')"
   ]
  },
  {
   "attachments": {},
   "cell_type": "markdown",
   "metadata": {},
   "source": [
    "### Прогноз логарифм *"
   ]
  },
  {
   "cell_type": "code",
   "execution_count": 74,
   "metadata": {},
   "outputs": [
    {
     "name": "stdout",
     "output_type": "stream",
     "text": [
      "Predict: 2397.3\n",
      "Real: 2420.0\n",
      "Dif: 22.7\n"
     ]
    }
   ],
   "source": [
    "pr = round(math.e ** model2.predict(mean_df)[0], 2)\n",
    "rl = round(np.median(pred.Weight), 2)\n",
    "\n",
    "print(f'Predict: {pr}')\n",
    "print(f'Real: {rl}')\n",
    "print(f'Dif: {abs(round(pr - rl, 2))}')"
   ]
  },
  {
   "attachments": {},
   "cell_type": "markdown",
   "metadata": {},
   "source": [
    "## Прогноз на тестовых данных"
   ]
  },
  {
   "cell_type": "code",
   "execution_count": 75,
   "metadata": {},
   "outputs": [],
   "source": [
    "x = df[['Preg_Status', 'Age', 'Sex', 'Birth_Type']]\n",
    "y = df['Weight']\n",
    "\n",
    "x_train, x_test, y_train, y_test = skm_s.train_test_split(x, y, test_size=0.7)"
   ]
  },
  {
   "attachments": {},
   "cell_type": "markdown",
   "metadata": {},
   "source": [
    "### Прогноз линейной"
   ]
  },
  {
   "cell_type": "code",
   "execution_count": 76,
   "metadata": {},
   "outputs": [
    {
     "name": "stdout",
     "output_type": "stream",
     "text": [
      "MAPE: 8.83%\n",
      "Mean dif: 216.24\n",
      "Median dif: 176.0\n"
     ]
    }
   ],
   "source": [
    "predictions = model.predict(x_test)\n",
    "\n",
    "errors = []\n",
    "\n",
    "for i in range(len(predictions)):\n",
    "    pr = round(y_test.values[i])\n",
    "    rl = round(predictions.values[i])\n",
    "    dif = abs(pr - rl)\n",
    "\n",
    "    errors.append(dif)\n",
    "\n",
    "    # print(f'pr: {pr}, rl: {rl}, dif: {dif}')\n",
    "\n",
    "print(f'MAPE: {round(np.mean(np.abs((y_test - predictions) / y_test)) * 100, 2)}%')\n",
    "print(f'Mean dif: {round(np.mean(errors), 2)}')\n",
    "print(f'Median dif: {round(np.median(errors), 2)}')"
   ]
  },
  {
   "attachments": {},
   "cell_type": "markdown",
   "metadata": {},
   "source": [
    "### Прогноз логарифм +"
   ]
  },
  {
   "cell_type": "code",
   "execution_count": 77,
   "metadata": {},
   "outputs": [
    {
     "name": "stdout",
     "output_type": "stream",
     "text": [
      "MAPE: 1.12%\n",
      "Mean dif: 215.43\n",
      "Median dif: 174.0\n"
     ]
    }
   ],
   "source": [
    "predictions = model1.predict(x_test)\n",
    "\n",
    "errors = []\n",
    "\n",
    "for i in range(len(predictions)):\n",
    "    pr = round(y_test.values[i])\n",
    "    rl = round(math.e ** predictions.values[i])\n",
    "    dif = abs(pr - rl)\n",
    "\n",
    "    errors.append(dif)\n",
    "\n",
    "    # print(f'pr: {pr}, rl: {rl}, dif: {dif}')\n",
    "\n",
    "print(f'MAPE: {round(np.mean(np.abs((np.log(y_test) - predictions) / np.log(y_test))) * 100, 2)}%')\n",
    "print(f'Mean dif: {round(np.mean(errors), 2)}')\n",
    "print(f'Median dif: {round(np.median(errors), 2)}')"
   ]
  },
  {
   "attachments": {},
   "cell_type": "markdown",
   "metadata": {},
   "source": [
    "### Прогноз логарифм *"
   ]
  },
  {
   "cell_type": "code",
   "execution_count": 78,
   "metadata": {},
   "outputs": [
    {
     "name": "stdout",
     "output_type": "stream",
     "text": [
      "MAPE: 1.11%\n",
      "Mean dif: 213.55\n",
      "Median dif: 171.0\n"
     ]
    }
   ],
   "source": [
    "predictions = model2.predict(x_test)\n",
    "\n",
    "errors = []\n",
    "\n",
    "for i in range(len(predictions)):\n",
    "    pr = round(y_test.values[i])\n",
    "    rl = round(math.e ** predictions.values[i])\n",
    "    dif = abs(pr - rl)\n",
    "\n",
    "    errors.append(dif)\n",
    "\n",
    "    # print(f'pr: {pr}, rl: {rl}, dif: {dif}')\n",
    "\n",
    "print(f'MAPE: {round(np.mean(np.abs((np.log(y_test) - predictions) / np.log(y_test))) * 100, 2)}%')\n",
    "print(f'Mean dif: {round(np.mean(errors), 2)}')\n",
    "print(f'Median dif: {round(np.median(errors), 2)}')"
   ]
  },
  {
   "attachments": {},
   "cell_type": "markdown",
   "metadata": {},
   "source": [
    "## Модель лассо"
   ]
  },
  {
   "cell_type": "code",
   "execution_count": 79,
   "metadata": {},
   "outputs": [
    {
     "name": "stderr",
     "output_type": "stream",
     "text": [
      "c:\\Users\\theba\\AppData\\Local\\Programs\\Python\\Python311\\Lib\\site-packages\\sklearn\\linear_model\\_coordinate_descent.py:634: UserWarning: Coordinate descent without L1 regularization may lead to unexpected results and is discouraged. Set l1_ratio > 0 to add L1 regularization.\n",
      "  model = cd_fast.enet_coordinate_descent_gram(\n",
      "c:\\Users\\theba\\AppData\\Local\\Programs\\Python\\Python311\\Lib\\site-packages\\sklearn\\linear_model\\_coordinate_descent.py:634: ConvergenceWarning: Objective did not converge. You might want to increase the number of iterations. Duality gap: 65390154.88033273, tolerance: 15313.950247229997\n",
      "  model = cd_fast.enet_coordinate_descent_gram(\n",
      "c:\\Users\\theba\\AppData\\Local\\Programs\\Python\\Python311\\Lib\\site-packages\\sklearn\\linear_model\\_coordinate_descent.py:634: UserWarning: Coordinate descent without L1 regularization may lead to unexpected results and is discouraged. Set l1_ratio > 0 to add L1 regularization.\n",
      "  model = cd_fast.enet_coordinate_descent_gram(\n",
      "c:\\Users\\theba\\AppData\\Local\\Programs\\Python\\Python311\\Lib\\site-packages\\sklearn\\linear_model\\_coordinate_descent.py:634: ConvergenceWarning: Objective did not converge. You might want to increase the number of iterations. Duality gap: 65334831.405710384, tolerance: 15333.783087856744\n",
      "  model = cd_fast.enet_coordinate_descent_gram(\n",
      "c:\\Users\\theba\\AppData\\Local\\Programs\\Python\\Python311\\Lib\\site-packages\\sklearn\\linear_model\\_coordinate_descent.py:634: UserWarning: Coordinate descent without L1 regularization may lead to unexpected results and is discouraged. Set l1_ratio > 0 to add L1 regularization.\n",
      "  model = cd_fast.enet_coordinate_descent_gram(\n",
      "c:\\Users\\theba\\AppData\\Local\\Programs\\Python\\Python311\\Lib\\site-packages\\sklearn\\linear_model\\_coordinate_descent.py:634: UserWarning: Coordinate descent without L1 regularization may lead to unexpected results and is discouraged. Set l1_ratio > 0 to add L1 regularization.\n",
      "  model = cd_fast.enet_coordinate_descent_gram(\n",
      "c:\\Users\\theba\\AppData\\Local\\Programs\\Python\\Python311\\Lib\\site-packages\\sklearn\\linear_model\\_coordinate_descent.py:634: ConvergenceWarning: Objective did not converge. You might want to increase the number of iterations. Duality gap: 52992890.09132941, tolerance: 12471.866200335759\n",
      "  model = cd_fast.enet_coordinate_descent_gram(\n",
      "c:\\Users\\theba\\AppData\\Local\\Programs\\Python\\Python311\\Lib\\site-packages\\sklearn\\linear_model\\_coordinate_descent.py:634: UserWarning: Coordinate descent without L1 regularization may lead to unexpected results and is discouraged. Set l1_ratio > 0 to add L1 regularization.\n",
      "  model = cd_fast.enet_coordinate_descent_gram(\n",
      "c:\\Users\\theba\\AppData\\Local\\Programs\\Python\\Python311\\Lib\\site-packages\\sklearn\\linear_model\\_coordinate_descent.py:634: ConvergenceWarning: Objective did not converge. You might want to increase the number of iterations. Duality gap: 72510718.20953059, tolerance: 17167.382565925618\n",
      "  model = cd_fast.enet_coordinate_descent_gram(\n",
      "c:\\Users\\theba\\AppData\\Local\\Programs\\Python\\Python311\\Lib\\site-packages\\sklearn\\linear_model\\_coordinate_descent.py:1771: UserWarning: With alpha=0, this algorithm does not converge well. You are advised to use the LinearRegression estimator\n",
      "  model.fit(X, y)\n",
      "c:\\Users\\theba\\AppData\\Local\\Programs\\Python\\Python311\\Lib\\site-packages\\sklearn\\linear_model\\_coordinate_descent.py:648: UserWarning: Coordinate descent with no regularization may lead to unexpected results and is discouraged.\n",
      "  model = cd_fast.enet_coordinate_descent(\n",
      "c:\\Users\\theba\\AppData\\Local\\Programs\\Python\\Python311\\Lib\\site-packages\\sklearn\\linear_model\\_coordinate_descent.py:648: ConvergenceWarning: Objective did not converge. You might want to increase the number of iterations, check the scale of the features or consider increasing regularisation. Duality gap: 8.358e+07, tolerance: 1.942e+04 Linear regression models with null weight for the l1 regularization term are more efficiently fitted using one of the solvers implemented in sklearn.linear_model.Ridge/RidgeCV instead.\n",
      "  model = cd_fast.enet_coordinate_descent(\n"
     ]
    },
    {
     "data": {
      "text/plain": [
       "0"
      ]
     },
     "execution_count": 79,
     "metadata": {},
     "output_type": "execute_result"
    }
   ],
   "source": [
    "x = df[['Preg_Status', 'Age', 'Sex', 'Birth_Type']]\n",
    "y = df['Weight']\n",
    "\n",
    "lasso_cv_model = linear_model.LassoCV(alphas = np.random.randint(0, 1000, 1000), cv = 5, max_iter = 100000).fit(x, y)\n",
    "lasso_cv_model.alpha_"
   ]
  },
  {
   "cell_type": "code",
   "execution_count": 80,
   "metadata": {},
   "outputs": [
    {
     "name": "stdout",
     "output_type": "stream",
     "text": [
      "Score: 0.14\n",
      "\n",
      "Preg_Status: 179.95\n",
      "Age: 3.19\n",
      "Sex: 199.62\n",
      "Birth_Type: 148.59\n"
     ]
    },
    {
     "name": "stderr",
     "output_type": "stream",
     "text": [
      "C:\\Users\\theba\\AppData\\Local\\Temp\\ipykernel_2532\\987714510.py:6: UserWarning: With alpha=0, this algorithm does not converge well. You are advised to use the LinearRegression estimator\n",
      "  clf.fit(x, y)\n",
      "c:\\Users\\theba\\AppData\\Local\\Programs\\Python\\Python311\\Lib\\site-packages\\sklearn\\linear_model\\_coordinate_descent.py:648: UserWarning: Coordinate descent with no regularization may lead to unexpected results and is discouraged.\n",
      "  model = cd_fast.enet_coordinate_descent(\n",
      "c:\\Users\\theba\\AppData\\Local\\Programs\\Python\\Python311\\Lib\\site-packages\\sklearn\\linear_model\\_coordinate_descent.py:648: ConvergenceWarning: Objective did not converge. You might want to increase the number of iterations, check the scale of the features or consider increasing regularisation. Duality gap: 8.358e+07, tolerance: 1.942e+04 Linear regression models with null weight for the l1 regularization term are more efficiently fitted using one of the solvers implemented in sklearn.linear_model.Ridge/RidgeCV instead.\n",
      "  model = cd_fast.enet_coordinate_descent(\n"
     ]
    }
   ],
   "source": [
    "clf = linear_model.Lasso(alpha=lasso_cv_model.alpha_)\n",
    "\n",
    "x = df[['Preg_Status', 'Age', 'Sex', 'Birth_Type']]\n",
    "y = df['Weight']\n",
    "\n",
    "clf.fit(x, y)\n",
    "\n",
    "print(f\"Score: {round(clf.score(x, y), 2)}\\n\")\n",
    "\n",
    "for i in range(len(clf.coef_)):\n",
    "    print(f'{clf.feature_names_in_[i]}: {round(clf.coef_[i], 2)}')"
   ]
  },
  {
   "attachments": {},
   "cell_type": "markdown",
   "metadata": {},
   "source": [
    "### Прогноз лассо"
   ]
  },
  {
   "cell_type": "code",
   "execution_count": 81,
   "metadata": {},
   "outputs": [
    {
     "name": "stdout",
     "output_type": "stream",
     "text": [
      "MAPE: 8.83%\n",
      "Mean dif: 216.24\n",
      "Median dif: 176.0\n"
     ]
    }
   ],
   "source": [
    "predictions = clf.predict(x_test)\n",
    "\n",
    "errors = []\n",
    "\n",
    "for i in range(len(predictions)):\n",
    "    pr = round(y_test.values[i])\n",
    "    rl = round(predictions[i])\n",
    "    dif = abs(pr - rl)\n",
    "\n",
    "    errors.append(dif)\n",
    "\n",
    "    # print(f'pr: {pr}, rl: {rl}, dif: {dif}')\n",
    "\n",
    "print(f'MAPE: {round(np.mean(np.abs((y_test - predictions) / y_test)) * 100, 2)}%')\n",
    "print(f'Mean dif: {round(np.mean(errors), 2)}')\n",
    "print(f'Median dif: {round(np.median(errors), 2)}')"
   ]
  },
  {
   "attachments": {},
   "cell_type": "markdown",
   "metadata": {},
   "source": [
    "### Прогноз линейной"
   ]
  },
  {
   "cell_type": "code",
   "execution_count": 82,
   "metadata": {},
   "outputs": [
    {
     "name": "stdout",
     "output_type": "stream",
     "text": [
      "MAPE: 8.83%\n",
      "Mean dif: 216.24\n",
      "Median dif: 176.0\n"
     ]
    }
   ],
   "source": [
    "predictions = model.predict(x_test)\n",
    "\n",
    "errors = []\n",
    "\n",
    "for i in range(len(predictions)):\n",
    "    pr = round(y_test.values[i])\n",
    "    rl = round(predictions.values[i])\n",
    "    dif = abs(pr - rl)\n",
    "\n",
    "    errors.append(dif)\n",
    "\n",
    "    # print(f'pr: {pr}, rl: {rl}, dif: {dif}')\n",
    "\n",
    "print(f'MAPE: {round(np.mean(np.abs((y_test - predictions) / y_test)) * 100, 2)}%')\n",
    "print(f'Mean dif: {round(np.mean(errors), 2)}')\n",
    "print(f'Median dif: {round(np.median(errors), 2)}')"
   ]
  },
  {
   "attachments": {},
   "cell_type": "markdown",
   "metadata": {},
   "source": [
    "## Матрица корреляции"
   ]
  },
  {
   "cell_type": "code",
   "execution_count": 83,
   "metadata": {},
   "outputs": [
    {
     "data": {
      "text/html": [
       "<div>\n",
       "<style scoped>\n",
       "    .dataframe tbody tr th:only-of-type {\n",
       "        vertical-align: middle;\n",
       "    }\n",
       "\n",
       "    .dataframe tbody tr th {\n",
       "        vertical-align: top;\n",
       "    }\n",
       "\n",
       "    .dataframe thead th {\n",
       "        text-align: right;\n",
       "    }\n",
       "</style>\n",
       "<table border=\"1\" class=\"dataframe\">\n",
       "  <thead>\n",
       "    <tr style=\"text-align: right;\">\n",
       "      <th></th>\n",
       "      <th>Sex</th>\n",
       "      <th>Weight</th>\n",
       "      <th>Age</th>\n",
       "      <th>Preg_Status</th>\n",
       "      <th>Birth_Type</th>\n",
       "    </tr>\n",
       "  </thead>\n",
       "  <tbody>\n",
       "    <tr>\n",
       "      <th>Sex</th>\n",
       "      <td>1.000000</td>\n",
       "      <td>0.306112</td>\n",
       "      <td>-0.168013</td>\n",
       "      <td>0.267874</td>\n",
       "      <td>-0.286590</td>\n",
       "    </tr>\n",
       "    <tr>\n",
       "      <th>Weight</th>\n",
       "      <td>0.306112</td>\n",
       "      <td>1.000000</td>\n",
       "      <td>-0.026003</td>\n",
       "      <td>0.208402</td>\n",
       "      <td>0.070129</td>\n",
       "    </tr>\n",
       "    <tr>\n",
       "      <th>Age</th>\n",
       "      <td>-0.168013</td>\n",
       "      <td>-0.026003</td>\n",
       "      <td>1.000000</td>\n",
       "      <td>-0.088680</td>\n",
       "      <td>-0.122552</td>\n",
       "    </tr>\n",
       "    <tr>\n",
       "      <th>Preg_Status</th>\n",
       "      <td>0.267874</td>\n",
       "      <td>0.208402</td>\n",
       "      <td>-0.088680</td>\n",
       "      <td>1.000000</td>\n",
       "      <td>-0.024222</td>\n",
       "    </tr>\n",
       "    <tr>\n",
       "      <th>Birth_Type</th>\n",
       "      <td>-0.286590</td>\n",
       "      <td>0.070129</td>\n",
       "      <td>-0.122552</td>\n",
       "      <td>-0.024222</td>\n",
       "      <td>1.000000</td>\n",
       "    </tr>\n",
       "  </tbody>\n",
       "</table>\n",
       "</div>"
      ],
      "text/plain": [
       "                  Sex    Weight       Age  Preg_Status  Birth_Type\n",
       "Sex          1.000000  0.306112 -0.168013     0.267874   -0.286590\n",
       "Weight       0.306112  1.000000 -0.026003     0.208402    0.070129\n",
       "Age         -0.168013 -0.026003  1.000000    -0.088680   -0.122552\n",
       "Preg_Status  0.267874  0.208402 -0.088680     1.000000   -0.024222\n",
       "Birth_Type  -0.286590  0.070129 -0.122552    -0.024222    1.000000"
      ]
     },
     "execution_count": 83,
     "metadata": {},
     "output_type": "execute_result"
    }
   ],
   "source": [
    "df.corr()"
   ]
  },
  {
   "attachments": {},
   "cell_type": "markdown",
   "metadata": {},
   "source": [
    "## Модель ридж"
   ]
  },
  {
   "cell_type": "code",
   "execution_count": 84,
   "metadata": {},
   "outputs": [
    {
     "data": {
      "text/plain": [
       "3"
      ]
     },
     "execution_count": 84,
     "metadata": {},
     "output_type": "execute_result"
    }
   ],
   "source": [
    "x = df[['Preg_Status', 'Age', 'Sex', 'Birth_Type']]\n",
    "y = df['Weight']\n",
    "\n",
    "ridge_cv_model = linear_model.RidgeCV(alphas = np.random.randint(1, 1000, 1000)).fit(x, y)\n",
    "ridge_cv_model.alpha_"
   ]
  },
  {
   "cell_type": "code",
   "execution_count": 85,
   "metadata": {},
   "outputs": [
    {
     "name": "stdout",
     "output_type": "stream",
     "text": [
      "Score: 0.14\n",
      "\n",
      "Preg_Status: 175.18\n",
      "Age: 3.14\n",
      "Sex: 198.52\n",
      "Birth_Type: 146.37\n"
     ]
    }
   ],
   "source": [
    "clr = linear_model.Ridge(alpha=ridge_cv_model.alpha_)\n",
    "\n",
    "x = df[['Preg_Status', 'Age', 'Sex', 'Birth_Type']]\n",
    "y = df['Weight']\n",
    "\n",
    "clr.fit(x, y)\n",
    "\n",
    "print(f\"Score: {round(clr.score(x, y), 2)}\\n\")\n",
    "\n",
    "for i in range(len(clr.coef_)):\n",
    "    print(f'{clr.feature_names_in_[i]}: {round(clr.coef_[i], 2)}')"
   ]
  },
  {
   "attachments": {},
   "cell_type": "markdown",
   "metadata": {},
   "source": [
    "### Прогноз ридж"
   ]
  },
  {
   "cell_type": "code",
   "execution_count": 86,
   "metadata": {},
   "outputs": [
    {
     "name": "stdout",
     "output_type": "stream",
     "text": [
      "MAPE: 8.83%\n",
      "Mean dif: 216.28\n",
      "Median dif: 176.0\n"
     ]
    }
   ],
   "source": [
    "predictions = clr.predict(x_test)\n",
    "\n",
    "errors = []\n",
    "\n",
    "for i in range(len(predictions)):\n",
    "    pr = round(y_test.values[i])\n",
    "    rl = round(predictions[i])\n",
    "    dif = abs(pr - rl)\n",
    "\n",
    "    errors.append(dif)\n",
    "\n",
    "    # print(f'pr: {pr}, rl: {rl}, dif: {dif}')\n",
    "\n",
    "print(f'MAPE: {round(np.mean(np.abs((y_test - predictions) / y_test)) * 100, 2)}%')\n",
    "print(f'Mean dif: {round(np.mean(errors), 2)}')\n",
    "print(f'Median dif: {round(np.median(errors), 2)}')"
   ]
  },
  {
   "attachments": {},
   "cell_type": "markdown",
   "metadata": {},
   "source": [
    "### Прогноз линейной"
   ]
  },
  {
   "cell_type": "code",
   "execution_count": 87,
   "metadata": {},
   "outputs": [
    {
     "name": "stdout",
     "output_type": "stream",
     "text": [
      "MAPE: 8.83%\n",
      "Mean dif: 216.24\n",
      "Median dif: 176.0\n"
     ]
    }
   ],
   "source": [
    "predictions = model.predict(x_test)\n",
    "\n",
    "errors = []\n",
    "\n",
    "for i in range(len(predictions)):\n",
    "    pr = round(y_test.values[i])\n",
    "    rl = round(predictions.values[i])\n",
    "    dif = abs(pr - rl)\n",
    "\n",
    "    errors.append(dif)\n",
    "\n",
    "    # print(f'pr: {pr}, rl: {rl}, dif: {dif}')\n",
    "\n",
    "print(f'MAPE: {round(np.mean(np.abs((y_test - predictions) / y_test)) * 100, 2)}%')\n",
    "print(f'Mean dif: {round(np.mean(errors), 2)}')\n",
    "print(f'Median dif: {round(np.median(errors), 2)}')"
   ]
  },
  {
   "cell_type": "code",
   "execution_count": 88,
   "metadata": {},
   "outputs": [],
   "source": [
    "features = ['Preg_Status', 'Age', 'Sex', 'Birth_Type']\n",
    "x = df.loc[:, features].values\n",
    "y = df.loc[:,['Weight']].values\n",
    "x = StandardScaler().fit_transform(x)"
   ]
  },
  {
   "cell_type": "code",
   "execution_count": 89,
   "metadata": {},
   "outputs": [],
   "source": [
    "pca = PCA(n_components=3)\n",
    "components = pca.fit_transform(x)\n",
    "pc = pd.DataFrame(data = components, columns = ['PC1', 'PC2', 'PC3'])"
   ]
  },
  {
   "cell_type": "code",
   "execution_count": 90,
   "metadata": {},
   "outputs": [
    {
     "name": "stdout",
     "output_type": "stream",
     "text": [
      "[[ 0.51324913 -0.25115146  0.75363236]\n",
      " [-0.25923248  0.7009993   0.56253369]\n",
      " [ 0.70109714  0.04238254 -0.16485567]\n",
      " [-0.42170684 -0.6661281   0.29734949]] \n",
      "\n",
      "[0.35765177450183444, 0.6421690768469173, 0.8585823455464088]\n"
     ]
    }
   ],
   "source": [
    "print(pca.components_.transpose(), '\\n')\n",
    "\n",
    "cum_explained_var = []\n",
    "for i in range(0, len(pca.explained_variance_ratio_)):\n",
    "    if i == 0:\n",
    "        cum_explained_var.append(pca.explained_variance_ratio_[i])\n",
    "    else:\n",
    "        cum_explained_var.append(pca.explained_variance_ratio_[i] + \n",
    "                                 cum_explained_var[i - 1])\n",
    "\n",
    "print(cum_explained_var)"
   ]
  },
  {
   "cell_type": "code",
   "execution_count": 91,
   "metadata": {},
   "outputs": [],
   "source": [
    "pca_df = pd.concat([pc, df[['Weight']]], axis = 1)"
   ]
  },
  {
   "cell_type": "code",
   "execution_count": 92,
   "metadata": {},
   "outputs": [
    {
     "data": {
      "text/html": [
       "<div>\n",
       "<style scoped>\n",
       "    .dataframe tbody tr th:only-of-type {\n",
       "        vertical-align: middle;\n",
       "    }\n",
       "\n",
       "    .dataframe tbody tr th {\n",
       "        vertical-align: top;\n",
       "    }\n",
       "\n",
       "    .dataframe thead th {\n",
       "        text-align: right;\n",
       "    }\n",
       "</style>\n",
       "<table border=\"1\" class=\"dataframe\">\n",
       "  <thead>\n",
       "    <tr style=\"text-align: right;\">\n",
       "      <th></th>\n",
       "      <th>PC1</th>\n",
       "      <th>PC2</th>\n",
       "      <th>PC3</th>\n",
       "      <th>Weight</th>\n",
       "    </tr>\n",
       "  </thead>\n",
       "  <tbody>\n",
       "    <tr>\n",
       "      <th>2</th>\n",
       "      <td>0.547129</td>\n",
       "      <td>1.087268</td>\n",
       "      <td>-1.213014</td>\n",
       "      <td>2306.0</td>\n",
       "    </tr>\n",
       "    <tr>\n",
       "      <th>3</th>\n",
       "      <td>0.485199</td>\n",
       "      <td>1.254736</td>\n",
       "      <td>-1.078625</td>\n",
       "      <td>2446.5</td>\n",
       "    </tr>\n",
       "    <tr>\n",
       "      <th>4</th>\n",
       "      <td>0.420595</td>\n",
       "      <td>1.429432</td>\n",
       "      <td>-0.938436</td>\n",
       "      <td>2319.5</td>\n",
       "    </tr>\n",
       "    <tr>\n",
       "      <th>5</th>\n",
       "      <td>0.410348</td>\n",
       "      <td>1.457143</td>\n",
       "      <td>-0.916199</td>\n",
       "      <td>2283.5</td>\n",
       "    </tr>\n",
       "    <tr>\n",
       "      <th>6</th>\n",
       "      <td>0.403665</td>\n",
       "      <td>1.475215</td>\n",
       "      <td>-0.901696</td>\n",
       "      <td>2100.0</td>\n",
       "    </tr>\n",
       "    <tr>\n",
       "      <th>...</th>\n",
       "      <td>...</td>\n",
       "      <td>...</td>\n",
       "      <td>...</td>\n",
       "      <td>...</td>\n",
       "    </tr>\n",
       "    <tr>\n",
       "      <th>2219</th>\n",
       "      <td>-0.613224</td>\n",
       "      <td>-0.938392</td>\n",
       "      <td>-0.460757</td>\n",
       "      <td>2360.0</td>\n",
       "    </tr>\n",
       "    <tr>\n",
       "      <th>2220</th>\n",
       "      <td>-0.626145</td>\n",
       "      <td>-0.903453</td>\n",
       "      <td>-0.432719</td>\n",
       "      <td>2280.0</td>\n",
       "    </tr>\n",
       "    <tr>\n",
       "      <th>2221</th>\n",
       "      <td>-0.634164</td>\n",
       "      <td>-0.881766</td>\n",
       "      <td>-0.415317</td>\n",
       "      <td>2320.0</td>\n",
       "    </tr>\n",
       "    <tr>\n",
       "      <th>2222</th>\n",
       "      <td>-0.648867</td>\n",
       "      <td>-0.842008</td>\n",
       "      <td>-0.383411</td>\n",
       "      <td>2320.0</td>\n",
       "    </tr>\n",
       "    <tr>\n",
       "      <th>2223</th>\n",
       "      <td>0.923290</td>\n",
       "      <td>-1.148515</td>\n",
       "      <td>-1.034119</td>\n",
       "      <td>2220.0</td>\n",
       "    </tr>\n",
       "  </tbody>\n",
       "</table>\n",
       "<p>1901 rows × 4 columns</p>\n",
       "</div>"
      ],
      "text/plain": [
       "           PC1       PC2       PC3  Weight\n",
       "2     0.547129  1.087268 -1.213014  2306.0\n",
       "3     0.485199  1.254736 -1.078625  2446.5\n",
       "4     0.420595  1.429432 -0.938436  2319.5\n",
       "5     0.410348  1.457143 -0.916199  2283.5\n",
       "6     0.403665  1.475215 -0.901696  2100.0\n",
       "...        ...       ...       ...     ...\n",
       "2219 -0.613224 -0.938392 -0.460757  2360.0\n",
       "2220 -0.626145 -0.903453 -0.432719  2280.0\n",
       "2221 -0.634164 -0.881766 -0.415317  2320.0\n",
       "2222 -0.648867 -0.842008 -0.383411  2320.0\n",
       "2223  0.923290 -1.148515 -1.034119  2220.0\n",
       "\n",
       "[1901 rows x 4 columns]"
      ]
     },
     "execution_count": 92,
     "metadata": {},
     "output_type": "execute_result"
    }
   ],
   "source": [
    "pca_df = pca_df.dropna()\n",
    "pca_df"
   ]
  },
  {
   "cell_type": "code",
   "execution_count": 93,
   "metadata": {},
   "outputs": [
    {
     "name": "stdout",
     "output_type": "stream",
     "text": [
      "                            OLS Regression Results                            \n",
      "==============================================================================\n",
      "Dep. Variable:                 Weight   R-squared:                       0.044\n",
      "Model:                            OLS   Adj. R-squared:                  0.043\n",
      "Method:                 Least Squares   F-statistic:                     29.16\n",
      "Date:                Thu, 22 Dec 2022   Prob (F-statistic):           1.97e-18\n",
      "Time:                        17:42:22   Log-Likelihood:                -13521.\n",
      "No. Observations:                1901   AIC:                         2.705e+04\n",
      "Df Residuals:                    1897   BIC:                         2.707e+04\n",
      "Df Model:                           3                                         \n",
      "Covariance Type:            nonrobust                                         \n",
      "==============================================================================\n",
      "                 coef    std err          t      P>|t|      [0.025      0.975]\n",
      "------------------------------------------------------------------------------\n",
      "Intercept   2496.9574      6.839    365.114      0.000    2483.545    2510.370\n",
      "PC1           -8.7276      5.889     -1.482      0.139     -20.278       2.822\n",
      "PC2          -55.2846      6.318     -8.750      0.000     -67.675     -42.894\n",
      "PC3          -16.4311      7.807     -2.105      0.035     -31.743      -1.119\n",
      "==============================================================================\n",
      "Omnibus:                       21.580   Durbin-Watson:                   0.437\n",
      "Prob(Omnibus):                  0.000   Jarque-Bera (JB):               22.167\n",
      "Skew:                           0.261   Prob(JB):                     1.54e-05\n",
      "Kurtosis:                       2.910   Cond. No.                         1.39\n",
      "==============================================================================\n",
      "\n",
      "Notes:\n",
      "[1] Standard Errors assume that the covariance matrix of the errors is correctly specified.\n",
      "\n",
      "MAPE: 9.77%\n",
      "\n"
     ]
    }
   ],
   "source": [
    "model = smf.ols(formula=\"Weight ~ PC1 + PC2 + PC3\", data=pca_df).fit()\n",
    "\n",
    "print(model.summary())\n",
    "print(f'\\nMAPE: {round(np.mean(np.abs((pca_df.Weight - model.predict()) / pca_df.Weight)) * 100, 2)}%\\n')"
   ]
  },
  {
   "cell_type": "code",
   "execution_count": 94,
   "metadata": {},
   "outputs": [],
   "source": [
    "x = pca_df[['PC1', 'PC2', 'PC3']]\n",
    "y = pca_df['Weight']\n",
    "\n",
    "x_train, x_test, y_train, y_test = skm_s.train_test_split(x, y, test_size=0.7)"
   ]
  },
  {
   "attachments": {},
   "cell_type": "markdown",
   "metadata": {},
   "source": [
    "### Прогноз линейной "
   ]
  },
  {
   "cell_type": "code",
   "execution_count": 95,
   "metadata": {},
   "outputs": [
    {
     "name": "stdout",
     "output_type": "stream",
     "text": [
      "MAPE: 9.87%\n",
      "Mean dif: 240.97\n",
      "Median dif: 211.0\n"
     ]
    }
   ],
   "source": [
    "predictions = model.predict(x_test)\n",
    "\n",
    "errors = []\n",
    "\n",
    "for i in range(len(predictions)):\n",
    "    pr = round(y_test.values[i])\n",
    "    rl = round(predictions.values[i])\n",
    "    dif = abs(pr - rl)\n",
    "\n",
    "    errors.append(dif)\n",
    "    \n",
    "print(f'MAPE: {round(np.mean(np.abs((y_test - predictions) / y_test)) * 100, 2)}%')\n",
    "print(f'Mean dif: {round(np.mean(errors), 2)}')\n",
    "print(f'Median dif: {round(np.median(errors), 2)}')"
   ]
  },
  {
   "cell_type": "code",
   "execution_count": 96,
   "metadata": {},
   "outputs": [
    {
     "name": "stdout",
     "output_type": "stream",
     "text": [
      "                            OLS Regression Results                            \n",
      "==============================================================================\n",
      "Dep. Variable:         np.log(Weight)   R-squared:                       0.044\n",
      "Model:                            OLS   Adj. R-squared:                  0.043\n",
      "Method:                 Least Squares   F-statistic:                     29.34\n",
      "Date:                Thu, 22 Dec 2022   Prob (F-statistic):           1.53e-18\n",
      "Time:                        17:42:23   Log-Likelihood:                 1348.7\n",
      "No. Observations:                1901   AIC:                            -2689.\n",
      "Df Residuals:                    1897   BIC:                            -2667.\n",
      "Df Model:                           3                                         \n",
      "Covariance Type:            nonrobust                                         \n",
      "==============================================================================\n",
      "                 coef    std err          t      P>|t|      [0.025      0.975]\n",
      "------------------------------------------------------------------------------\n",
      "Intercept      7.8155      0.003   2851.640      0.000       7.810       7.821\n",
      "PC1           -0.0026      0.002     -1.096      0.273      -0.007       0.002\n",
      "PC2           -0.0225      0.003     -8.876      0.000      -0.027      -0.018\n",
      "PC3           -0.0063      0.003     -2.009      0.045      -0.012      -0.000\n",
      "==============================================================================\n",
      "Omnibus:                        1.159   Durbin-Watson:                   0.451\n",
      "Prob(Omnibus):                  0.560   Jarque-Bera (JB):                1.223\n",
      "Skew:                          -0.050   Prob(JB):                        0.543\n",
      "Kurtosis:                       2.926   Cond. No.                         1.39\n",
      "==============================================================================\n",
      "\n",
      "Notes:\n",
      "[1] Standard Errors assume that the covariance matrix of the errors is correctly specified.\n",
      "\n",
      "MAPE: 1.23%\n",
      "\n"
     ]
    }
   ],
   "source": [
    "model1 = smf.ols(formula=\"np.log(Weight) ~ PC1 + PC2 + PC3\", data=pca_df).fit()\n",
    "\n",
    "print(model1.summary())\n",
    "print(f'\\nMAPE: {round(np.mean(np.abs((np.log(pca_df.Weight) - model1.predict()) / np.log(pca_df.Weight))) * 100, 2)}%\\n')"
   ]
  },
  {
   "attachments": {},
   "cell_type": "markdown",
   "metadata": {},
   "source": [
    "### Прогноз логарифм +"
   ]
  },
  {
   "cell_type": "code",
   "execution_count": 97,
   "metadata": {},
   "outputs": [
    {
     "name": "stdout",
     "output_type": "stream",
     "text": [
      "MAPE: 1.24%\n",
      "Mean dif: 239.76\n",
      "Median dif: 205.0\n"
     ]
    }
   ],
   "source": [
    "predictions = model1.predict(x_test)\n",
    "\n",
    "errors = []\n",
    "\n",
    "for i in range(len(predictions)):\n",
    "    pr = round(y_test.values[i])\n",
    "    rl = round(math.e ** predictions.values[i])\n",
    "    dif = abs(pr - rl)\n",
    "\n",
    "    errors.append(dif)\n",
    "\n",
    "\n",
    "print(f'MAPE: {round(np.mean(np.abs((np.log(y_test) - predictions) / np.log(y_test))) * 100, 2)}%')\n",
    "print(f'Mean dif: {round(np.mean(errors), 2)}')\n",
    "print(f'Median dif: {round(np.median(errors), 2)}')"
   ]
  },
  {
   "cell_type": "code",
   "execution_count": 98,
   "metadata": {},
   "outputs": [
    {
     "name": "stdout",
     "output_type": "stream",
     "text": [
      "                            OLS Regression Results                            \n",
      "==============================================================================\n",
      "Dep. Variable:         np.log(Weight)   R-squared:                       0.084\n",
      "Model:                            OLS   Adj. R-squared:                  0.081\n",
      "Method:                 Least Squares   F-statistic:                     24.92\n",
      "Date:                Thu, 22 Dec 2022   Prob (F-statistic):           1.03e-32\n",
      "Time:                        17:42:23   Log-Likelihood:                 1389.4\n",
      "No. Observations:                1901   AIC:                            -2763.\n",
      "Df Residuals:                    1893   BIC:                            -2718.\n",
      "Df Model:                           7                                         \n",
      "Covariance Type:            nonrobust                                         \n",
      "===============================================================================\n",
      "                  coef    std err          t      P>|t|      [0.025      0.975]\n",
      "-------------------------------------------------------------------------------\n",
      "Intercept       7.8115      0.004   2154.537      0.000       7.804       7.819\n",
      "PC1            -0.0082      0.004     -1.925      0.054      -0.017       0.000\n",
      "PC2            -0.0416      0.005     -7.611      0.000      -0.052      -0.031\n",
      "PC1:PC2         0.0272      0.004      7.554      0.000       0.020       0.034\n",
      "PC3             0.0201      0.009      2.163      0.031       0.002       0.038\n",
      "PC1:PC3        -0.0017      0.004     -0.455      0.649      -0.009       0.006\n",
      "PC2:PC3        -0.0032      0.006     -0.556      0.578      -0.014       0.008\n",
      "PC1:PC2:PC3    -0.0039      0.002     -1.612      0.107      -0.009       0.001\n",
      "==============================================================================\n",
      "Omnibus:                       14.988   Durbin-Watson:                   0.474\n",
      "Prob(Omnibus):                  0.001   Jarque-Bera (JB):               15.103\n",
      "Skew:                          -0.213   Prob(JB):                     0.000525\n",
      "Kurtosis:                       3.092   Cond. No.                         14.8\n",
      "==============================================================================\n",
      "\n",
      "Notes:\n",
      "[1] Standard Errors assume that the covariance matrix of the errors is correctly specified.\n",
      "\n",
      "MAPE: 1.19%\n",
      "\n"
     ]
    }
   ],
   "source": [
    "model2 = smf.ols(formula=\"np.log(Weight) ~ PC1 * PC2 * PC3\", data=pca_df).fit()\n",
    "\n",
    "print(model2.summary())\n",
    "print(f'\\nMAPE: {round(np.mean(np.abs((np.log(pca_df.Weight) - model2.predict()) / np.log(pca_df.Weight))) * 100, 2)}%\\n')"
   ]
  },
  {
   "attachments": {},
   "cell_type": "markdown",
   "metadata": {},
   "source": [
    "### Прогноз логарифм *"
   ]
  },
  {
   "cell_type": "code",
   "execution_count": 99,
   "metadata": {},
   "outputs": [
    {
     "name": "stdout",
     "output_type": "stream",
     "text": [
      "MAPE: 1.2%\n",
      "Mean dif: 232.44\n",
      "Median dif: 201.0\n"
     ]
    }
   ],
   "source": [
    "predictions = model2.predict(x_test)\n",
    "\n",
    "errors = []\n",
    "\n",
    "for i in range(len(predictions)):\n",
    "    pr = round(y_test.values[i])\n",
    "    rl = round(math.e ** predictions.values[i])\n",
    "    dif = abs(pr - rl)\n",
    "\n",
    "    errors.append(dif)\n",
    "\n",
    "print(f'MAPE: {round(np.mean(np.abs((np.log(y_test) - predictions) / np.log(y_test))) * 100, 2)}%')\n",
    "print(f'Mean dif: {round(np.mean(errors), 2)}')\n",
    "print(f'Median dif: {round(np.median(errors), 2)}')"
   ]
  },
  {
   "attachments": {},
   "cell_type": "markdown",
   "metadata": {},
   "source": [
    "### Прогноз линейной с кв"
   ]
  },
  {
   "cell_type": "code",
   "execution_count": 100,
   "metadata": {},
   "outputs": [
    {
     "name": "stdout",
     "output_type": "stream",
     "text": [
      "MAPE: 9.79%\n",
      "Mean dif: 240.97\n",
      "Median dif: 212.4\n"
     ]
    }
   ],
   "source": [
    "x = pca_df[['PC1', 'PC2', 'PC3']]\n",
    "y = pca_df['Weight']\n",
    "\n",
    "means = []\n",
    "mean_errors = []\n",
    "median_errors = []\n",
    "\n",
    "for i in range(5):\n",
    "    x_train, x_test, y_train, y_test = skm_s.train_test_split(x, y, test_size=0.7)\n",
    "    train_df = pd.concat([x_train, y_train], axis = 1)\n",
    "    model = smf.ols(formula=\"Weight ~ PC1 + PC2 + PC3\", data=pca_df).fit()\n",
    "    mape = round(np.mean(np.abs((y_test - model.predict(x_test)) / y_test)) * 100, 2)\n",
    "    means.append(mape)\n",
    "\n",
    "    errors = []\n",
    "\n",
    "    for i in range(len(model.predict(x_test))):\n",
    "        pr = round(y_test.values[i])\n",
    "        rl = round(model.predict(x_test).values[i])\n",
    "        dif = abs(pr - rl)\n",
    "\n",
    "        errors.append(dif)\n",
    "    \n",
    "    mean_errors.append(np.mean(errors))\n",
    "    median_errors.append(np.median(errors))\n",
    "\n",
    "print(f'MAPE: {round(np.mean(means), 2)}%')\n",
    "print(f'Mean dif: {round(np.mean(mean_errors), 2)}')\n",
    "print(f'Median dif: {round(np.mean(median_errors), 2)}')"
   ]
  },
  {
   "attachments": {},
   "cell_type": "markdown",
   "metadata": {},
   "source": [
    "### Прогноз логарифм + с кв"
   ]
  },
  {
   "cell_type": "code",
   "execution_count": 101,
   "metadata": {},
   "outputs": [
    {
     "name": "stdout",
     "output_type": "stream",
     "text": [
      "MAPE: 1.23%\n",
      "Mean dif: 239.15\n",
      "Median dif: 205.0\n"
     ]
    }
   ],
   "source": [
    "x = pca_df[['PC1', 'PC2', 'PC3']]\n",
    "y = pca_df['Weight']\n",
    "\n",
    "means = []\n",
    "mean_errors = []\n",
    "median_errors = []\n",
    "\n",
    "for i in range(5):\n",
    "    x_train, x_test, y_train, y_test = skm_s.train_test_split(x, y, test_size=0.7)\n",
    "    train_df = pd.concat([x_train, y_train], axis = 1)\n",
    "    model = smf.ols(formula=\"np.log(Weight) ~ PC1 + PC2 + PC3\", data=pca_df).fit()\n",
    "    mape = round(np.mean(np.abs((np.log(y_test) - model.predict(x_test)) / np.log(y_test))) * 100, 2)\n",
    "    means.append(mape)\n",
    "\n",
    "    errors = []\n",
    "\n",
    "    for i in range(len(model.predict(x_test))):\n",
    "        pr = round(y_test.values[i])\n",
    "        rl = round(math.e ** model.predict(x_test).values[i])\n",
    "        dif = abs(pr - rl)\n",
    "\n",
    "        errors.append(dif)\n",
    "    \n",
    "    mean_errors.append(np.mean(errors))\n",
    "    median_errors.append(np.median(errors))\n",
    "\n",
    "print(f'MAPE: {round(np.mean(means), 2)}%')\n",
    "print(f'Mean dif: {round(np.mean(mean_errors), 2)}')\n",
    "print(f'Median dif: {round(np.mean(median_errors), 2)}')"
   ]
  },
  {
   "attachments": {},
   "cell_type": "markdown",
   "metadata": {},
   "source": [
    "### Прогноз логарифм *"
   ]
  },
  {
   "cell_type": "code",
   "execution_count": 102,
   "metadata": {},
   "outputs": [
    {
     "name": "stdout",
     "output_type": "stream",
     "text": [
      "MAPE: 1.2%\n",
      "Mean dif: 233.98\n",
      "Median dif: 204.2\n"
     ]
    }
   ],
   "source": [
    "x = pca_df[['PC1', 'PC2', 'PC3']]\n",
    "y = pca_df['Weight']\n",
    "\n",
    "means = []\n",
    "mean_errors = []\n",
    "median_errors = []\n",
    "\n",
    "for i in range(5):\n",
    "    x_train, x_test, y_train, y_test = skm_s.train_test_split(x, y, test_size=0.7)\n",
    "    train_df = pd.concat([x_train, y_train], axis = 1)\n",
    "    model = smf.ols(formula=\"np.log(Weight) ~ PC1 * PC2 * PC3\", data=pca_df).fit()\n",
    "    mape = round(np.mean(np.abs((np.log(y_test) - model.predict(x_test)) / np.log(y_test))) * 100, 2)\n",
    "    means.append(mape)\n",
    "\n",
    "    errors = []\n",
    "\n",
    "    for i in range(len(model.predict(x_test))):\n",
    "        pr = round(y_test.values[i])\n",
    "        rl = round(math.e ** model.predict(x_test).values[i])\n",
    "        dif = abs(pr - rl)\n",
    "\n",
    "        errors.append(dif)\n",
    "    \n",
    "    mean_errors.append(np.mean(errors))\n",
    "    median_errors.append(np.median(errors))\n",
    "\n",
    "print(f'MAPE: {round(np.mean(means), 2)}%')\n",
    "print(f'Mean dif: {round(np.mean(mean_errors), 2)}')\n",
    "print(f'Median dif: {round(np.mean(median_errors), 2)}')"
   ]
  }
 ],
 "metadata": {
  "kernelspec": {
   "display_name": "Python 3",
   "language": "python",
   "name": "python3"
  },
  "language_info": {
   "codemirror_mode": {
    "name": "ipython",
    "version": 3
   },
   "file_extension": ".py",
   "mimetype": "text/x-python",
   "name": "python",
   "nbconvert_exporter": "python",
   "pygments_lexer": "ipython3",
   "version": "3.11.0 (main, Oct 24 2022, 18:26:48) [MSC v.1933 64 bit (AMD64)]"
  },
  "orig_nbformat": 4,
  "vscode": {
   "interpreter": {
    "hash": "1b032452825cfb918ba2aa96def1bfe72203d70ad656b993aaacfcdaaaef8735"
   }
  }
 },
 "nbformat": 4,
 "nbformat_minor": 2
}
